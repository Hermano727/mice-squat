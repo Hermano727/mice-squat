{
 "cells": [
  {
   "cell_type": "code",
   "execution_count": 26,
   "id": "42b908a9",
   "metadata": {},
   "outputs": [],
   "source": [
    "input = list(\"001011100100001011100100\")\n",
    "polynomial = list(\"11101\")\n",
    "seed = \"0101\"\n",
    "target = \"0101\"\n",
    "lenInput = len(input)\n",
    "input.extend([\"0\", \"1\", \"0\", \"1\"])\n",
    "\n",
    "lenPoly = len(polynomial)\n"
   ]
  },
  {
   "cell_type": "code",
   "execution_count": 27,
   "id": "02caad1c",
   "metadata": {},
   "outputs": [],
   "source": [
    "while \"1\" in input[:-len(seed)]:\n",
    "    cur_shift = input.index(\"1\")\n",
    "    for i in range(len(polynomial)):\n",
    "        # XOR each bit of the polynomial with the input\n",
    "        input[cur_shift + i] = str(int(polynomial[i] != input[cur_shift + i]))\n",
    "\n",
    "output = input[-len(seed):]"
   ]
  },
  {
   "cell_type": "code",
   "execution_count": 28,
   "id": "237682ad",
   "metadata": {},
   "outputs": [
    {
     "data": {
      "text/plain": [
       "['0', '0', '1', '1']"
      ]
     },
     "execution_count": 28,
     "metadata": {},
     "output_type": "execute_result"
    }
   ],
   "source": [
    "output\n"
   ]
  }
 ],
 "metadata": {
  "kernelspec": {
   "display_name": "Python 3",
   "language": "python",
   "name": "python3"
  },
  "language_info": {
   "codemirror_mode": {
    "name": "ipython",
    "version": 3
   },
   "file_extension": ".py",
   "mimetype": "text/x-python",
   "name": "python",
   "nbconvert_exporter": "python",
   "pygments_lexer": "ipython3",
   "version": "3.11.4"
  }
 },
 "nbformat": 4,
 "nbformat_minor": 5
}
